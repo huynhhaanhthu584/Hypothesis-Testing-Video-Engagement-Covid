{
 "cells": [
  {
   "cell_type": "markdown",
   "metadata": {},
   "source": [
    "# REPORT"
   ]
  },
  {
   "cell_type": "markdown",
   "metadata": {},
   "source": [
    "**HYPOTHESIS**"
   ]
  },
  {
   "cell_type": "markdown",
   "metadata": {},
   "source": [
    "* Các video về lĩnh vực y tế được quan tâm nhiều hơn trong thời điểm Covid bùng phát."
   ]
  },
  {
   "cell_type": "markdown",
   "metadata": {},
   "source": [
    "**METHODOLOGY**"
   ]
  },
  {
   "cell_type": "markdown",
   "metadata": {},
   "source": [
    "* Cách thực hiện:\n",
    "\n",
    "1.   Cào dữ liệu:\n",
    " - Với giả thuyết được đặt ra thì cần một lượng thông tin về tin tức có thể hiện rõ lượt tương tác và phải cùng trên một nguồn đăng trên một nền tảng nhất định. Vì thế, tụi em chọn cào dữ liệu từ kênh youtube của Báo Thanh Niên - kênh tin tức chính thống với tần suất đăng bài, lượt tương tác ổn định.\n",
    "  - Tụi em cào dữ liệu từ các danh sách phát với nhiều video ở nhiều lĩnh vực và thời điểm khác nhau. Đồng thời, nhờ đó tụi em có thể kiểm soát được số lượng dữ liệu cào về.\n",
    "  - Tụi em sẽ cào những thuộc tính của video như: Tiêu đề (để xác định lĩnh vực của video), lượt xem và lượt thích (thể hiện độ tương tác của người dùng với video), ngày đăng (xác định thời điểm của video)\n",
    "  - Sau khi thực hiện các bước trên thì có được dataset ban đầu: video_data.csv\n",
    "\n",
    "2.  Chia lĩnh vực cho các video\n",
    " - Dùng LLM để phân loại các video có liên quan lĩnh vực y tế dựa trên tiêu đề. Sau đó gắn nhãn dữ liệu bằng cách thêm cột medical_field (1: lĩnh vực y tế, 0: các lĩnh vực khác). Dataset thu được: final_data.csv - dataset mà tụi em sẽ sử dụng để kiểm định giả thuyết.\n",
    "3. Tiền xử lý\n",
    " - Kiểm tra và xử lý missing values, dữ liệu bị lỗi và trùng trong quá trình cào\n",
    " - Chuyển các dữ liệu về đúng định dạng\n",
    " - Xác định thời điểm bị can thiệp và gắn nhãn (0: ngoài thời điểm, 1: trong thời điểm)\n",
    " - Xử lý outliers: + Vì lượt xem outlier sẽ ảnh hưởng lên lượt xem trung bình nên tụi em sẽ xử lý outliers đưa về min/max (xử lý theo từng giai đoạn) để kết quả được khách quan nhất.\n",
    "4. Thực hiện kiểm định\n",
    "   - Thống kê để quan sát sự thay đổi về số lượng các video về lĩnh vực y tế trên tổng thể\n",
    "     \n",
    "     + Tính tỉ lệ số lượng video về lĩnh vực y tế trong các giai đoạn khảo sát\n",
    "     + Tính hệ số DiD để ước lượng tác động nhân quả của Covid-19 lên số lượng video về lĩnh vực y tế\n",
    "  - Sử dụng Difference-In-Differences để kiểm định dựa trên lượt xem trung bình\n",
    "     + Tính lượt xem trung bình của các video về lĩnh vực y tế trong các giai đoạn khảo sát\n",
    "     + Tính hệ số DiD để ước lượng tác động nhân quả của Covid-19 lên lượt xem\n",
    "      của các video về lĩnh vực y tế\n",
    "     + Tính hệ số ước lượng của các tác nhân (lĩnh vực y tế, thời điểm Covid, yếu tố kết hợp - did) lên lượt xem\n",
    "     + Sử dụng OLS để thống kê số liệu của các kết quả hồi quy từ dataset để có kết luận về giả thuyết đã đặt ra\n",
    "5. Trực quan hóa dữ liệu\n",
    "    + Trực quan để thấy rõ được sự thay đổi do tác động của Covid-19 lên số lượng video và lượt xem trung bình của các video về lĩnh vực y tế"
   ]
  },
  {
   "cell_type": "markdown",
   "metadata": {},
   "source": [
    "**DISCUSSION**"
   ]
  },
  {
   "cell_type": "markdown",
   "metadata": {},
   "source": [
    "Bộ dữ liệu:\n",
    "- Kích thước khá lớn\n",
    "- Dữ liệu không có nhiều missing values tuy nhiên định dạng của các thuộc tính không đồng nhất nên cần hiểu dữ liệu để chuyển đổi phù hợp\n",
    "- Các thuộc tính chưa được tận dụng hết (không dùng thuộc tính 'likes')\n",
    "\n",
    "Kết quả thống kê:\n",
    "- Vì các video được lấy trong các danh sách phát được tạo ngẫu nhiên nên số lượng video trong từng thời điểm không đồng đều => Kết quả thống kê thu được chưa thực sự phản ánh đúng"
   ]
  },
  {
   "cell_type": "markdown",
   "metadata": {},
   "source": [
    "**EXPLANATION**"
   ]
  },
  {
   "cell_type": "markdown",
   "metadata": {},
   "source": [
    "\n",
    "1.  *Cào dữ liệu từ danh sách phát:*\n",
    "- Vì youtube là web động và sử dụng thanh cuộn vô cực nên để cuộn và cào dữ liệu từ 3-4 năm trước thì sẽ phải yêu cầu bộ nhớ RAM rất lớn để lưu lại lượng thông tin khổng lồ trong hàng chục ngàn video, đồng thời số lượng video đó cũng quá lớn để xử lý\n",
    "- Để crawl được ngày đăng cụ thể và lượt xem thì cần phải click 2 lần (click vào video và phần mô tả) và việc lặp lại nhiều lần như vậy thì bị Youtube chặn bằng cơ chế phát hiện bot\n",
    "- Hơn nữa, nếu crawl dữ liệu từ đầu trang mà đường truyền bị gián đoạn thì phải tốn thời gian cuộn lại để tìm đến video bị gián đoạn. Trong khi đó, nếu cào bằng danh sách phát thì tụi em sẽ có được index cụ thể của video trong danh sách phát và dễ dàng tiếp tục cào.\n",
    "2.   *Dùng LLM:*\n",
    "- Do có quá nhiều dữ liệu nếu gắn nhãn bằng tay thì rất mất thời gian. Hơn nữa, lĩnh vực y tế cũng là lĩnh vực phổ biến nên dễ để phân loại.\n",
    "3. *Không sử dụng thuộc tính \"likes\":*\n",
    "- Mặc dù số lượt thích cũng phản ánh được mức độ tương tác, tuy nhiên trong bộ dữ liệu này số lượt thích là không đáng kể so với số lượt xem nên để bài toán kiểm định được chính xác hơn tụi em không sử dụng thuộc tính này.\n",
    "4. *Xác định giai đoạn dịch Covid-19:*\n",
    "- Bắt đầu: 30/1/2020 - Thời điểm phát hiện những ca nhiễm đầu tiên tại Việt Nam\n",
    "- Kết thúc: 30/3/2022. Mặc dù, 7/7/2023 Bộ Y tế mới công bố hết dịch tại Việt Nam, nhưng tụi em chọn ngày kết thúc như trên vì đó là thời điểm mà xã hội đã được vận hành lại như trước khi có dịch và cũng như đã có vắc-xin kiểm soát.\n",
    "5. *Chọn mô hình Diff-in-Diff:*\n",
    "- Sythetic Control phù hợp với giả thuyết trên một nhóm video cụ thể và yêu cầu số lượng đơn vị không bị can thiệp (số video không trong giai đoạn Covid) đủ lớn\n",
    "- Trong khi đó, Diff-in-Diff phù hợp với bộ dữ liệu có nhiều đơn vị quan sát và thời gian, cũng như đơn giản hơn.\n"
   ]
  },
  {
   "cell_type": "markdown",
   "metadata": {},
   "source": [
    "**REFLECTION**"
   ]
  },
  {
   "cell_type": "markdown",
   "metadata": {},
   "source": [
    "* Điểm mạnh:\n",
    "  1. Crawl được thông tin từ web động và có thanh cuộn vô cực\n",
    "  2. Crawl được thông tin từ nhiều lĩnh vực trải dài theo thời gian\n",
    "  3. Đưa ra được kết luận với giả thuyết ban đầu\n",
    "  4. Thực hiện đầy đủ các yêu cầu của project\n",
    "* Điểm yếu:\n",
    "  1. Do danh sách phát được tạo ngẫu nhiên nên có những khoảng thời gian số lượng video ít ảnh hưởng đến độ chính xác của bài toán kiểm định\n",
    "  2. Chưa tận dụng được hết dữ liệu đã crawl\n",
    "  3. Chưa tận dụng được tối đa chức năng của LLM"
   ]
  },
  {
   "cell_type": "markdown",
   "metadata": {},
   "source": [
    "**FINDINGS**"
   ]
  },
  {
   "cell_type": "code",
   "execution_count": null,
   "metadata": {},
   "outputs": [
    {
     "name": "stdout",
     "output_type": "stream",
     "text": [
      "                            OLS Regression Results                            \n",
      "==============================================================================\n",
      "Dep. Variable:                  views   R-squared:                       0.066\n",
      "Model:                            OLS   Adj. R-squared:                  0.066\n",
      "Method:                 Least Squares   F-statistic:                     341.8\n",
      "Date:                Fri, 21 Jun 2024   Prob (F-statistic):          1.86e-214\n",
      "Time:                        09:06:38   Log-Likelihood:            -1.8709e+05\n",
      "No. Observations:               14482   AIC:                         3.742e+05\n",
      "Df Residuals:                   14478   BIC:                         3.742e+05\n",
      "Df Model:                           3                                         \n",
      "Covariance Type:            nonrobust                                         \n",
      "=================================================================================\n",
      "                    coef    std err          t      P>|t|      [0.025      0.975]\n",
      "---------------------------------------------------------------------------------\n",
      "Intercept      4.851e+04   1589.692     30.515      0.000    4.54e+04    5.16e+04\n",
      "medical_field -1.489e+04   4943.320     -3.012      0.003   -2.46e+04   -5197.276\n",
      "time_in_covid  5.672e+04   2055.426     27.594      0.000    5.27e+04    6.07e+04\n",
      "did            1.245e+04   5322.773      2.338      0.019    2012.286    2.29e+04\n",
      "==============================================================================\n",
      "Omnibus:                     2659.137   Durbin-Watson:                   1.788\n",
      "Prob(Omnibus):                  0.000   Jarque-Bera (JB):             4361.743\n",
      "Skew:                           1.299   Prob(JB):                         0.00\n",
      "Kurtosis:                       3.690   Cond. No.                         12.0\n",
      "==============================================================================\n",
      "\n",
      "Notes:\n",
      "[1] Standard Errors assume that the covariance matrix of the errors is correctly specified.\n"
     ]
    }
   ],
   "source": [
    "print(ols.summary())\n",
    "# Bảng các số liệu thống kê"
   ]
  },
  {
   "cell_type": "markdown",
   "metadata": {},
   "source": [
    "Đây là kết quả của mô hình hồi quy OLS\n",
    "\n",
    "* Intercept (hệ số chặn):\n",
    "  \n",
    "  + Hệ số : 4.851e+04\n",
    "  \n",
    "   Nghĩa là khi các biến độc lập khác đều bằng 0 thì lượt xem trung bình là 48510.\n",
    "\n",
    "  + P-value: 0.000 - rất nhỏ => Hệ số chặn có ý nghĩa thống kê\n",
    "* Medical_field:\n",
    "  + Hệ số: -1.489e+04\n",
    "   \n",
    "   Cho thấy rằng, ngoài thời điểm Covid, các video về lĩnh vực y tế có số lượt xem trung bình ít hơn 14890 lượt so với các video không thuộc lĩnh vực y tế.\n",
    "  + P-value: 0.003 - rất nhỏ < 0.05 => Cho thấy medical_field có tác động lên lượt xem.\n",
    "* Time_in_covid:\n",
    "  + Hệ số: 5.672e+04\n",
    "\n",
    "  Cho thấy rằng, rằng trong thời điểm Covid,số lượt xem trung bình của tất cả các video tăng lên 56720 lượt.\n",
    "  + P-value: 0.000 - rất nhỏ => Cho thấy Covid-19 có tác động đáng kể lên lượt xem\n",
    "* did:\n",
    "  + Hệ số: 1.245e+04\n",
    "  Điều này chỉ ra rằng trong thời điểm Covid-19, số lượt xem trung bình của các video về lĩnh vực y tế tăng thêm 12450 lượt so với các video không thuộc lĩnh vực y tế.\n",
    "  + P-value: 0.019 < 0.05\n",
    "  Với độ tin cậy 95%, ta có thể chấp nhận giả thuyết \"Các video về lĩnh vực y tế được quan tâm nhiều hơn trong thời điểm Covid bùng phát\".\n",
    "\n"
   ]
  },
  {
   "cell_type": "markdown",
   "metadata": {},
   "source": [
    "**CONCLUSION**\n"
   ]
  },
  {
   "cell_type": "markdown",
   "metadata": {},
   "source": [
    "Kết quả cho thấy rằng trong thời điểm Covid-19, tất cả các video đều có số lượt xem tăng đáng kể, trong đó các video về lĩnh vực y tế được quan tâm nhiều hơn. Nghĩa là giả thuyết ban đầu đã được chấp nhận sau khi kiểm định với bộ dữ liệu trên."
   ]
  }
 ],
 "metadata": {
  "language_info": {
   "name": "python"
  }
 },
 "nbformat": 4,
 "nbformat_minor": 2
}
